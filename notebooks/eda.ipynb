{
  "nbformat": 4,
  "nbformat_minor": 0,
  "metadata": {
    "colab": {
      "private_outputs": true,
      "provenance": []
    },
    "kernelspec": {
      "name": "python3",
      "display_name": "Python 3"
    },
    "language_info": {
      "name": "python"
    }
  },
  "cells": [
    {
      "cell_type": "code",
      "source": [
        "!pip install chardet"
      ],
      "metadata": {
        "id": "UvfZXRphpbv-"
      },
      "execution_count": null,
      "outputs": []
    },
    {
      "cell_type": "code",
      "source": [
        "import pandas as pd\n",
        "import chardet\n",
        "\n",
        "# CSV 파일 경로 지정\n",
        "csv_file_path = '/content/G06F_2020~2024.csv'  # 실제 CSV 파일 경로로 변경해 주세요.\n",
        "\n",
        "# 파일의 인코딩 감지\n",
        "with open(csv_file_path, 'rb') as file:\n",
        "    result = chardet.detect(file.read())\n",
        "\n",
        "print(f\"감지된 인코딩: {result['encoding']}\")\n",
        "\n",
        "# CSV 파일 읽어오기 (감지된 인코딩 사용)\n",
        "df = pd.read_csv(csv_file_path, encoding=result['encoding'])\n",
        "\n",
        "# 데이터프레임 출력\n",
        "print(df.head())"
      ],
      "metadata": {
        "id": "dvIs0T1Tpflj"
      },
      "execution_count": null,
      "outputs": []
    },
    {
      "cell_type": "code",
      "source": [
        "import pandas as pd\n",
        "import chardet\n",
        "\n",
        "# CSV 파일 경로 지정\n",
        "csv_file_path = '/content/G06F_2020~2024.csv'  # 실제 CSV 파일 경로로 변경해 주세요.\n",
        "\n",
        "# 파일의 인코딩 감지\n",
        "with open(csv_file_path, 'rb') as file:\n",
        "    result = chardet.detect(file.read())\n",
        "\n",
        "print(f\"감지된 인코딩: {result['encoding']}\")\n",
        "\n",
        "# CSV 파일 읽어오기 (감지된 인코딩 사용)\n",
        "df = pd.read_csv(csv_file_path, encoding=result['encoding'])\n",
        "\n",
        "# 결측치 비율 확인\n",
        "missing_ratio = df.isnull().mean()\n",
        "print(\"결측치 비율:\")\n",
        "print(missing_ratio)"
      ],
      "metadata": {
        "id": "c0rHl6X9s3ZW"
      },
      "execution_count": null,
      "outputs": []
    },
    {
      "cell_type": "code",
      "source": [
        "import pandas as pd\n",
        "import matplotlib.pyplot as plt\n",
        "\n",
        "# 결측치 비율 계산\n",
        "missing_ratio = df.isnull().mean()\n",
        "\n",
        "# 막대 그래프 그리기\n",
        "plt.figure(figsize=(10, 6))\n",
        "missing_ratio.plot(kind='bar')\n",
        "plt.xlabel('Columns')\n",
        "plt.ylabel('Missing Ratio')\n",
        "plt.title('Missing Value Ratio by Column')\n",
        "plt.xticks(rotation=45, ha='right')\n",
        "plt.tight_layout()\n",
        "plt.show()"
      ],
      "metadata": {
        "id": "1CMEehg_0zMI"
      },
      "execution_count": null,
      "outputs": []
    },
    {
      "cell_type": "code",
      "source": [
        "import pandas as pd\n",
        "import seaborn as sns\n",
        "import matplotlib.pyplot as plt\n",
        "\n",
        "# 결측치를 1, 비결측치를 0으로 변환\n",
        "missing_map = df.isnull().astype(int)\n",
        "\n",
        "# 히트맵 그리기\n",
        "plt.figure(figsize=(12, 8))\n",
        "sns.heatmap(missing_map, cmap='viridis', cbar_kws={'label': 'Missing Values'})\n",
        "plt.xlabel('Columns')\n",
        "plt.ylabel('Rows')\n",
        "plt.title('Missing Value Distribution')\n",
        "plt.xticks(rotation=45, ha='right')\n",
        "plt.tight_layout()\n",
        "plt.show()"
      ],
      "metadata": {
        "id": "cDM7wA6U1E9s"
      },
      "execution_count": null,
      "outputs": []
    }
  ]
}