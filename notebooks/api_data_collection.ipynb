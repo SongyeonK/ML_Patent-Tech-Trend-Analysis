{
  "nbformat": 4,
  "nbformat_minor": 0,
  "metadata": {
    "colab": {
      "private_outputs": true,
      "provenance": [],
      "gpuType": "V28"
    },
    "kernelspec": {
      "name": "python3",
      "display_name": "Python 3"
    },
    "language_info": {
      "name": "python"
    },
    "accelerator": "TPU"
  },
  "cells": [
    {
      "cell_type": "code",
      "execution_count": null,
      "metadata": {
        "id": "_ECDoWoEbBQq"
      },
      "outputs": [],
      "source": [
        "!pip install xmltodict"
      ]
    },
    {
      "cell_type": "code",
      "source": [
        "import requests\n",
        "import xmltodict\n",
        "import pandas as pd\n",
        "import time"
      ],
      "metadata": {
        "id": "rhHNx72AbhQl"
      },
      "execution_count": null,
      "outputs": []
    },
    {
      "cell_type": "code",
      "source": [
        "def get_response(url):\n",
        "    while True:\n",
        "        try:\n",
        "            reponse = requests.get(url)\n",
        "            time.sleep(1)\n",
        "            break\n",
        "        except:\n",
        "            time.sleep(60 * 15)\n",
        "\n",
        "    content = reponse.text\n",
        "    content = xmltodict.parse(content)['response']\n",
        "    return content"
      ],
      "metadata": {
        "id": "JIxmp0YHbtJf"
      },
      "execution_count": null,
      "outputs": []
    },
    {
      "cell_type": "code",
      "source": [
        "def extract_items_from_body(content):\n",
        "    result = []\n",
        "    for item in content['body']['items']['item']:\n",
        "        result.append(item.values())\n",
        "\n",
        "    result = pd.DataFrame(result, columns = item.keys())\n",
        "    return result"
      ],
      "metadata": {
        "id": "peo0GBj5btLp"
      },
      "execution_count": null,
      "outputs": []
    },
    {
      "cell_type": "code",
      "source": [
        "api_key = 'V4muEAGFFKi6SLp7gZW0VtY/2fnBvRamZtgVTHrJBEs='\n",
        "date_range = '20200101~20240501'\n",
        "ipc = 'G06F'\n",
        "pn = 1"
      ],
      "metadata": {
        "id": "etim7leGbtOO"
      },
      "execution_count": null,
      "outputs": []
    },
    {
      "cell_type": "code",
      "source": [
        "url = 'http://plus.kipris.or.kr/kipo-api/kipi/patUtiModInfoSearchSevice/getAdvancedSearch?ipcNumber={}&registerDate={}&numOfRows=20&pageNo={}&ServiceKey={}'.format(ipc, date_range, pn, api_key)"
      ],
      "metadata": {
        "id": "th41MtNAbtQ3"
      },
      "execution_count": null,
      "outputs": []
    },
    {
      "cell_type": "code",
      "source": [
        "total_data = pd.DataFrame()\n",
        "pn = 1\n",
        "while True:\n",
        "    try:\n",
        "        url = 'http://plus.kipris.or.kr/kipo-api/kipi/patUtiModInfoSearchSevice/getAdvancedSearch?ipcNumber={}&registerDate={}&numOfRows=50&pageNo={}&ServiceKey={}'.format(ipc, date_range, pn, api_key)\n",
        "        content = get_response(url)\n",
        "        result = extract_items_from_body(content)\n",
        "        total_data = pd.concat([total_data, result], axis = 0, ignore_index = True)\n",
        "        print(ipc, pn)\n",
        "        pn += 1\n",
        "    except:\n",
        "        break"
      ],
      "metadata": {
        "id": "ZE1tYZA1btWy"
      },
      "execution_count": null,
      "outputs": []
    },
    {
      "cell_type": "code",
      "source": [
        "print(total_data)"
      ],
      "metadata": {
        "id": "Oqwz_a8Df3vC"
      },
      "execution_count": null,
      "outputs": []
    },
    {
      "cell_type": "code",
      "source": [
        "print(total_data.head())"
      ],
      "metadata": {
        "id": "_KmxpStZs-ea"
      },
      "execution_count": null,
      "outputs": []
    },
    {
      "cell_type": "code",
      "source": [
        "# CSV 파일로 저장\n",
        "total_data.to_csv('patent_data.csv', index=False)"
      ],
      "metadata": {
        "id": "747vbn2Dhm8j"
      },
      "execution_count": null,
      "outputs": []
    },
    {
      "cell_type": "code",
      "source": [
        "# 인코딩 및 구분자 지정하여 CSV 파일로 저장\n",
        "total_data.to_csv('patent_data.csv', index=False, encoding='utf-8', sep=',')"
      ],
      "metadata": {
        "id": "5yQcAzC0ho5Z"
      },
      "execution_count": null,
      "outputs": []
    }
  ]
}